{
 "cells": [
  {
   "attachments": {},
   "cell_type": "markdown",
   "metadata": {},
   "source": [
    "# Data Preprocessing Template"
   ]
  },
  {
   "cell_type": "code",
   "execution_count": 7,
   "metadata": {},
   "outputs": [],
   "source": [
    "import numpy as np\n",
    "import matplotlib.pyplot as plt \n",
    "import pandas as pd \n",
    "\n",
    "dataset = pd.read_csv(\"Data.csv\") # your file path here\n",
    "\n",
    "X = dataset.iloc[:, :-1].values # chose your independent columns, the before comma is about the romws, the after comma is the columns\n",
    "y = dataset.iloc[:, -1].values # chose your dependent column\n"
   ]
  },
  {
   "attachments": {},
   "cell_type": "markdown",
   "metadata": {},
   "source": [
    "## IN CASE You have Missing Datas"
   ]
  },
  {
   "cell_type": "code",
   "execution_count": 8,
   "metadata": {},
   "outputs": [],
   "source": [
    "from sklearn.impute import SimpleImputer # to replace the data with the mean of the column\n",
    "imputer = SimpleImputer(strategy='mean', missing_values=np.nan)\n",
    "# in my case, my first and second row have NaN valuesm thus\n",
    "X[:, 1:3] =  imputer.fit_transform(X[:, 1:3])"
   ]
  },
  {
   "attachments": {},
   "cell_type": "markdown",
   "metadata": {},
   "source": [
    "# Categorical Data Processing (Not needed most of the time)"
   ]
  },
  {
   "cell_type": "code",
   "execution_count": 11,
   "metadata": {},
   "outputs": [],
   "source": [
    "from sklearn.compose import ColumnTransformer\n",
    "from sklearn.preprocessing import LabelEncoder, OneHotEncoder\n",
    "\n",
    "# let us do our y first\n",
    "lb_y = LabelEncoder()\n",
    "y = lb_y.fit_transform(y)\n",
    "\n",
    "# let us do our X's country\n",
    "categorical_features = [0] # their indexes\n",
    "preprocess = ColumnTransformer(\n",
    "    transformers=[('encoder', OneHotEncoder(), categorical_features)],\n",
    "    remainder='passthrough'\n",
    ")\n",
    "lb_X = LabelEncoder()\n",
    "X[:, 0] = lb_X.fit_transform(X[:, 0])\n",
    "X = preprocess.fit_transform(X)"
   ]
  },
  {
   "attachments": {},
   "cell_type": "markdown",
   "metadata": {},
   "source": [
    "# Split Test Train Dataset"
   ]
  },
  {
   "cell_type": "code",
   "execution_count": 12,
   "metadata": {},
   "outputs": [],
   "source": [
    "from sklearn.model_selection import train_test_split \n",
    "X_train, X_test, y_train, y_test = train_test_split(X, y, test_size=0.2, random_state=0) "
   ]
  },
  {
   "attachments": {},
   "cell_type": "markdown",
   "metadata": {},
   "source": [
    "## In case you want feature scaling"
   ]
  },
  {
   "cell_type": "code",
   "execution_count": 13,
   "metadata": {},
   "outputs": [],
   "source": [
    "from sklearn.preprocessing import StandardScaler # Standard Scaling [ (X - mean(x)) / standard_varaition(x) ]\n",
    "sc = StandardScaler()\n",
    "sc_x = sc.fit(X_train)  # we use the same scale for both train and test dataset, thus we fit it only once with the training one\n",
    "X_train = sc_x.transform(X_train)\n",
    "X_test = sc_x.transform(X_test)\n",
    "\n",
    "# Do the same for y if it is required, in our dataset it is 0 and 1 thus not required\n",
    "\n"
   ]
  }
 ],
 "metadata": {
  "kernelspec": {
   "display_name": "Python 3",
   "language": "python",
   "name": "python3"
  },
  "language_info": {
   "codemirror_mode": {
    "name": "ipython",
    "version": 3
   },
   "file_extension": ".py",
   "mimetype": "text/x-python",
   "name": "python",
   "nbconvert_exporter": "python",
   "pygments_lexer": "ipython3",
   "version": "3.11.2"
  },
  "orig_nbformat": 4
 },
 "nbformat": 4,
 "nbformat_minor": 2
}
