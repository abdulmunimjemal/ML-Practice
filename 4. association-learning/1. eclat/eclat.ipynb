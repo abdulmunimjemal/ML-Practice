{
 "cells": [
  {
   "cell_type": "code",
   "execution_count": 14,
   "metadata": {},
   "outputs": [
    {
     "name": "stdout",
     "output_type": "stream",
     "text": [
      "Collecting pyECLAT\n",
      "  Downloading pyECLAT-1.0.2-py3-none-any.whl (6.3 kB)\n",
      "Requirement already satisfied: pandas>=0.25.3 in c:\\users\\abdulmunim\\appdata\\local\\programs\\python\\python311\\lib\\site-packages (from pyECLAT) (2.0.0)\n",
      "Requirement already satisfied: numpy>=1.17.4 in c:\\users\\abdulmunim\\appdata\\local\\programs\\python\\python311\\lib\\site-packages (from pyECLAT) (1.24.2)\n",
      "Requirement already satisfied: tqdm>=4.41.1 in c:\\users\\abdulmunim\\appdata\\local\\programs\\python\\python311\\lib\\site-packages (from pyECLAT) (4.64.1)\n",
      "Requirement already satisfied: python-dateutil>=2.8.2 in c:\\users\\abdulmunim\\appdata\\local\\programs\\python\\python311\\lib\\site-packages (from pandas>=0.25.3->pyECLAT) (2.8.2)\n",
      "Requirement already satisfied: pytz>=2020.1 in c:\\users\\abdulmunim\\appdata\\local\\programs\\python\\python311\\lib\\site-packages (from pandas>=0.25.3->pyECLAT) (2022.6)\n",
      "Requirement already satisfied: tzdata>=2022.1 in c:\\users\\abdulmunim\\appdata\\local\\programs\\python\\python311\\lib\\site-packages (from pandas>=0.25.3->pyECLAT) (2023.3)\n",
      "Requirement already satisfied: colorama in c:\\users\\abdulmunim\\appdata\\local\\programs\\python\\python311\\lib\\site-packages (from tqdm>=4.41.1->pyECLAT) (0.4.6)\n",
      "Requirement already satisfied: six>=1.5 in c:\\users\\abdulmunim\\appdata\\local\\programs\\python\\python311\\lib\\site-packages (from python-dateutil>=2.8.2->pandas>=0.25.3->pyECLAT) (1.16.0)\n",
      "Installing collected packages: pyECLAT\n",
      "Successfully installed pyECLAT-1.0.2\n",
      "Note: you may need to restart the kernel to use updated packages.\n"
     ]
    }
   ],
   "source": [
    "%pip install pyECLAT"
   ]
  },
  {
   "cell_type": "code",
   "execution_count": 2,
   "metadata": {},
   "outputs": [],
   "source": [
    "# import \n",
    "import numpy as np\n",
    "import pandas as pd \n",
    "import matplotlib.pyplot as plt "
   ]
  },
  {
   "cell_type": "code",
   "execution_count": 3,
   "metadata": {},
   "outputs": [],
   "source": [
    "dataset = pd.read_csv('../0.apriori/Market_Basket_Optimisation.csv', header=None) # our data has no header"
   ]
  },
  {
   "cell_type": "code",
   "execution_count": 4,
   "metadata": {},
   "outputs": [],
   "source": [
    "# importing the ECLAT module\n",
    "from pyECLAT import ECLAT\n",
    "# loading transactions DataFrame to ECLAT class\n",
    "eclat = ECLAT(data=dataset, )\n",
    "items_per_transaction = eclat.df_bin.astype(int).sum(axis=1)\n",
    "\n",
    "\n",
    "min_support = 0.05 # the item shoud appear at least 5% freq\n",
    "min_length = 2 # start from transactions containing at least 2 items\n",
    "max_length = 3 # max(items_per_transaction) - I don't have that much computational power on my PC"
   ]
  },
  {
   "cell_type": "code",
   "execution_count": 5,
   "metadata": {},
   "outputs": [
    {
     "name": "stdout",
     "output_type": "stream",
     "text": [
      "Combination 2 by 2\n"
     ]
    },
    {
     "name": "stderr",
     "output_type": "stream",
     "text": [
      "0it [00:00, ?it/s]"
     ]
    },
    {
     "name": "stderr",
     "output_type": "stream",
     "text": [
      "300it [00:01, 238.44it/s]\n"
     ]
    },
    {
     "name": "stdout",
     "output_type": "stream",
     "text": [
      "Combination 3 by 3\n"
     ]
    },
    {
     "name": "stderr",
     "output_type": "stream",
     "text": [
      "2300it [00:10, 227.49it/s]\n"
     ]
    }
   ],
   "source": [
    "\n",
    "rules = eclat.fit(min_support=min_support, min_combination=min_length, max_combination=max_length, separator=' & ', verbose=True)"
   ]
  },
  {
   "cell_type": "code",
   "execution_count": 6,
   "metadata": {},
   "outputs": [],
   "source": [
    "rule_indices, rule_supports = rules"
   ]
  },
  {
   "cell_type": "code",
   "execution_count": 7,
   "metadata": {},
   "outputs": [
    {
     "data": {
      "text/html": [
       "<div>\n",
       "<style scoped>\n",
       "    .dataframe tbody tr th:only-of-type {\n",
       "        vertical-align: middle;\n",
       "    }\n",
       "\n",
       "    .dataframe tbody tr th {\n",
       "        vertical-align: top;\n",
       "    }\n",
       "\n",
       "    .dataframe thead th {\n",
       "        text-align: right;\n",
       "    }\n",
       "</style>\n",
       "<table border=\"1\" class=\"dataframe\">\n",
       "  <thead>\n",
       "    <tr style=\"text-align: right;\">\n",
       "      <th></th>\n",
       "      <th>Item</th>\n",
       "      <th>Support</th>\n",
       "    </tr>\n",
       "  </thead>\n",
       "  <tbody>\n",
       "    <tr>\n",
       "      <th>0</th>\n",
       "      <td>spaghetti &amp; mineral water</td>\n",
       "      <td>0.059725</td>\n",
       "    </tr>\n",
       "    <tr>\n",
       "      <th>2</th>\n",
       "      <td>mineral water &amp; chocolate</td>\n",
       "      <td>0.052660</td>\n",
       "    </tr>\n",
       "    <tr>\n",
       "      <th>1</th>\n",
       "      <td>mineral water &amp; eggs</td>\n",
       "      <td>0.050927</td>\n",
       "    </tr>\n",
       "  </tbody>\n",
       "</table>\n",
       "</div>"
      ],
      "text/plain": [
       "                        Item   Support\n",
       "0  spaghetti & mineral water  0.059725\n",
       "2  mineral water & chocolate  0.052660\n",
       "1       mineral water & eggs  0.050927"
      ]
     },
     "execution_count": 7,
     "metadata": {},
     "output_type": "execute_result"
    }
   ],
   "source": [
    "# our interest is with rule_supports\n",
    "\n",
    "result = pd.DataFrame(rule_supports.items(),columns=['Item', 'Support'])\n",
    "result.sort_values(by=['Support'], ascending=False)"
   ]
  },
  {
   "cell_type": "code",
   "execution_count": 8,
   "metadata": {},
   "outputs": [],
   "source": [
    "# We have found out these are the most purchased items in our dataset"
   ]
  },
  {
   "cell_type": "code",
   "execution_count": null,
   "metadata": {},
   "outputs": [],
   "source": []
  }
 ],
 "metadata": {
  "kernelspec": {
   "display_name": "Python 3",
   "language": "python",
   "name": "python3"
  },
  "language_info": {
   "codemirror_mode": {
    "name": "ipython",
    "version": 3
   },
   "file_extension": ".py",
   "mimetype": "text/x-python",
   "name": "python",
   "nbconvert_exporter": "python",
   "pygments_lexer": "ipython3",
   "version": "3.11.2"
  },
  "orig_nbformat": 4
 },
 "nbformat": 4,
 "nbformat_minor": 2
}
