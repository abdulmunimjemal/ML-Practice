{
 "cells": [
  {
   "cell_type": "code",
   "execution_count": 40,
   "metadata": {},
   "outputs": [],
   "source": [
    "# import \n",
    "import numpy as np\n",
    "import pandas as pd \n",
    "import matplotlib.pyplot as plt "
   ]
  },
  {
   "cell_type": "code",
   "execution_count": 41,
   "metadata": {},
   "outputs": [],
   "source": [
    "dataset = pd.read_csv('Market_Basket_Optimisation.csv', header=None) # our data has no header"
   ]
  },
  {
   "cell_type": "code",
   "execution_count": 42,
   "metadata": {},
   "outputs": [
    {
     "name": "stdout",
     "output_type": "stream",
     "text": [
      "Rows:  7501\n"
     ]
    }
   ],
   "source": [
    "transactions = []\n",
    "print(\"Rows: \",len(dataset))"
   ]
  },
  {
   "cell_type": "code",
   "execution_count": 43,
   "metadata": {},
   "outputs": [],
   "source": [
    "# our Apriori class (look in apyori.py) accepts data as list of list instead of dataframe\n",
    "\n",
    "for i in range(7501): # 7501 rows\n",
    "    transaction = []\n",
    "    for j in range(20): # 20 columns\n",
    "        transaction.append(str(dataset.values[i,j]))\n",
    "    transactions.append(transaction) \n",
    "        \n",
    "    "
   ]
  },
  {
   "cell_type": "code",
   "execution_count": 44,
   "metadata": {},
   "outputs": [],
   "source": [
    "from apyori import apriori\n",
    "min_length = 2 # associate at least between two\n",
    "min_support = (3*7)/7500  # a product purchased 3 times a day for a week will be the minimum requried for association\n",
    "min_confidence = 0.2 # 20% seems reasonable\n",
    "\n",
    "rules = apriori(transactions, min_support=min_support, min_confidence=min_confidence, min_lift=min_lift, min_length=min_length)"
   ]
  },
  {
   "cell_type": "code",
   "execution_count": 45,
   "metadata": {},
   "outputs": [],
   "source": [
    "results = list(rules)\n",
    "\n",
    "#check in variable explorer. they are listed by relevance"
   ]
  },
  {
   "cell_type": "code",
   "execution_count": null,
   "metadata": {},
   "outputs": [],
   "source": []
  }
 ],
 "metadata": {
  "kernelspec": {
   "display_name": "Python 3",
   "language": "python",
   "name": "python3"
  },
  "language_info": {
   "codemirror_mode": {
    "name": "ipython",
    "version": 3
   },
   "file_extension": ".py",
   "mimetype": "text/x-python",
   "name": "python",
   "nbconvert_exporter": "python",
   "pygments_lexer": "ipython3",
   "version": "3.11.2"
  },
  "orig_nbformat": 4
 },
 "nbformat": 4,
 "nbformat_minor": 2
}
